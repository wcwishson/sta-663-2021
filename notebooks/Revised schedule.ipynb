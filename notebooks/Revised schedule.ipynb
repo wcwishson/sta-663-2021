{
 "cells": [
  {
   "cell_type": "markdown",
   "metadata": {},
   "source": [
    "```\n",
    "03-23 Solving linear equations\n",
    "03-25 PCA and SVD\n",
    "03-30 Calculus review\n",
    "04-01 Root finding, scalar optimization and Gradient descent \n",
    "04-06 Quasi-Newton methods and Constrained optimization\n",
    "04-08 Midterms 2\n",
    "04-13 Probabilistic programming and Monte Carlo methods\n",
    "04-15 MCMC and HMC\n",
    "04-20 PyMC3 and PyStan\n",
    "04-22 Tensorflow probability and probabilistic deep learning\n",
    "04-27 Final project due\n",
    "```"
   ]
  },
  {
   "cell_type": "code",
   "execution_count": null,
   "metadata": {},
   "outputs": [],
   "source": []
  }
 ],
 "metadata": {
  "kernelspec": {
   "display_name": "Python 3.8.9 64-bit",
   "language": "python",
   "name": "python3"
  },
  "language_info": {
   "codemirror_mode": {
    "name": "ipython",
    "version": 3
   },
   "file_extension": ".py",
   "mimetype": "text/x-python",
   "name": "python",
   "nbconvert_exporter": "python",
   "pygments_lexer": "ipython3",
   "version": "3.8.9"
  },
  "vscode": {
   "interpreter": {
    "hash": "31f2aee4e71d21fbe5cf8b01ff0e069b9275f58929596ceb00d14d90e3e16cd6"
   }
  }
 },
 "nbformat": 4,
 "nbformat_minor": 4
}
